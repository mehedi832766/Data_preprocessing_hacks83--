{
  "nbformat": 4,
  "nbformat_minor": 0,
  "metadata": {
    "colab": {
      "provenance": [],
      "include_colab_link": true
    },
    "kernelspec": {
      "name": "python3",
      "display_name": "Python 3"
    },
    "language_info": {
      "name": "python"
    }
  },
  "cells": [
    {
      "cell_type": "markdown",
      "metadata": {
        "id": "view-in-github",
        "colab_type": "text"
      },
      "source": [
        "<a href=\"https://colab.research.google.com/github/mehedi832766/Data_preprocessing_hacks83--/blob/AugmentationAndNumpyToH5Format/Augmentation.ipynb\" target=\"_parent\"><img src=\"https://colab.research.google.com/assets/colab-badge.svg\" alt=\"Open In Colab\"/></a>"
      ]
    },
    {
      "cell_type": "code",
      "source": [
        "import numpy as np\n",
        "import os\n",
        "from sklearn.metrics import confusion_matrix\n",
        "import seaborn as sn; sn.set(font_scale=1.4)\n",
        "from sklearn.utils import shuffle           \n",
        "import matplotlib.pyplot as plt             \n",
        "import cv2                                 \n",
        "import tensorflow as tf                \n",
        "from tqdm import tqdm\n",
        "from tensorflow.keras.applications.vgg16 import VGG16\n",
        "from tensorflow.keras.layers import Input, Lambda, Dense, Flatten\n",
        "from tensorflow.keras.layers import Convolution2D\n",
        "from tensorflow.keras.layers import MaxPooling2D\n",
        "from tensorflow.keras.models import Model\n",
        "from tensorflow.keras.preprocessing.image import ImageDataGenerator,load_img\n",
        "import numpy as np\n",
        "from sklearn.model_selection import train_test_split"
      ],
      "metadata": {
        "id": "Qiw-IkkVuoR0"
      },
      "execution_count": null,
      "outputs": []
    },
    {
      "cell_type": "code",
      "source": [
        "from tensorflow.keras.utils import img_to_array\n",
        "from tensorflow.keras.utils import load_img\n",
        "from keras.preprocessing.image import ImageDataGenerator\n",
        "import os\n",
        "from glob import glob\n",
        "import numpy as np\n",
        "import h5py\n"
      ],
      "metadata": {
        "id": "yDpLs7Cen1al"
      },
      "execution_count": null,
      "outputs": []
    },
    {
      "cell_type": "code",
      "source": [
        "root='/content/drive/MyDrive/Thesis/Split_data_BG/train'"
      ],
      "metadata": {
        "id": "9kY-odRjoGQx"
      },
      "execution_count": null,
      "outputs": []
    },
    {
      "cell_type": "code",
      "execution_count": null,
      "metadata": {
        "id": "655YJ3o5KJSM",
        "colab": {
          "base_uri": "https://localhost:8080/"
        },
        "outputId": "9fd0a9b6-4c55-4b13-c8c2-ebdf00682d98"
      },
      "outputs": [
        {
          "output_type": "stream",
          "name": "stdout",
          "text": [
            "Looking in indexes: https://pypi.org/simple, https://us-python.pkg.dev/colab-wheels/public/simple/\n",
            "Collecting split-folders\n",
            "  Downloading split_folders-0.5.1-py3-none-any.whl (8.4 kB)\n",
            "Installing collected packages: split-folders\n",
            "Successfully installed split-folders-0.5.1\n"
          ]
        }
      ],
      "source": [
        "# pip install split-folders"
      ]
    },
    {
      "cell_type": "code",
      "execution_count": null,
      "metadata": {
        "id": "14tSdq9Zo5ry"
      },
      "outputs": [],
      "source": [
        "# import splitfolders"
      ]
    },
    {
      "cell_type": "code",
      "execution_count": null,
      "metadata": {
        "id": "SVat5t96pHe3"
      },
      "outputs": [],
      "source": [
        "# input_folder = '/content/drive/MyDrive/Thesis/Main_Sign_Data'"
      ]
    },
    {
      "cell_type": "code",
      "execution_count": null,
      "metadata": {
        "id": "MzJBRBhFpW34",
        "colab": {
          "base_uri": "https://localhost:8080/"
        },
        "outputId": "41f466f3-3e71-4185-e736-6dd3f74860fc"
      },
      "outputs": [
        {
          "output_type": "stream",
          "name": "stderr",
          "text": [
            "Copying files: 1933 files [13:41,  2.35 files/s]\n"
          ]
        }
      ],
      "source": [
        "# splitfolders.ratio(root, output=\"/content/drive/MyDrive/Thesis/Split_data_BG\",\n",
        "#                    seed=42,ratio=(.7,.2,.1))"
      ]
    },
    {
      "cell_type": "code",
      "source": [
        "datagen = ImageDataGenerator(\n",
        "        rotation_range=15,\n",
        "      # width_shift_range=0.1,\n",
        "      height_shift_range=0.1,\n",
        "      # brightness_range=[.2,.8],\n",
        "      # shear_range = 0.1,\n",
        "      zoom_range = 0.1,\n",
        "      # vertical_flip = True,\n",
        "      validation_split=0.2,\n",
        "      fill_mode='reflect'\n",
        "        )"
      ],
      "metadata": {
        "id": "At5R0ajHovlq"
      },
      "execution_count": null,
      "outputs": []
    },
    {
      "cell_type": "code",
      "source": [
        "for folder in os.listdir(root):\n",
        "  sub = os.path.join(root,folder)\n",
        "  tar = os.path.join('/content/drive/MyDrive/DATASets/Folder_wise/train_only_BG',folder)\n",
        "  os.mkdir(tar)\n",
        "  for img in os.listdir(sub):\n",
        "    img = load_img(os.path.join(sub,img))  # this is a PIL image\n",
        "    x = img_to_array(img)  # this is a Numpy array with shape (3, 150, 150)\n",
        "    x = x.reshape((1,) + x.shape)  # this is a Numpy array with shape (1, 3, 150, 150)\n",
        "\n",
        "    # the .flow() command below generates batches of randomly transformed images\n",
        "    # and saves the results to the `preview/` directory\n",
        "    i = 0\n",
        "    for batch in datagen.flow(x, batch_size=1,\n",
        "                              save_to_dir=tar, save_prefix=folder, save_format='jpeg'):\n",
        "        i += 1\n",
        "        if i >= 2:\n",
        "            break  # otherwise the generator would loop indefinitely"
      ],
      "metadata": {
        "id": "tIHkPR2VtYUp"
      },
      "execution_count": null,
      "outputs": []
    },
    {
      "cell_type": "code",
      "source": [
        "# class_names = ['@1. A', '@2. AA', '@3. E', '@4. U', '@5. Y', '@6. O','1.KA', '2. KHA', '3. GA', '4. GHA', '5. CHA', '6. SCHA', '7. JA', '8. JHA', '9. TA', '10. THA', '11. DA', '12. DHA', '13. TO', '14. THO', '15. DO', '16. DHO', '17. NA', '18. PA', '19. PHA', '20. BA', '21. BHA', '22. MA', '23. YA', '24. RA', '25. LA', '26. SA', '27. HA', '28. RHA', '29. UN', '30. BI', 'joint', 'space', 'stop']\n",
        "# class_names_label = {class_name:i for i, class_name in enumerate(class_names)}\n",
        "# IMAGE_SIZE = [224, 224]\n",
        "# nb_classes = len(class_names)"
      ],
      "metadata": {
        "id": "9OfXT2nluRBc"
      },
      "execution_count": null,
      "outputs": []
    },
    {
      "cell_type": "markdown",
      "source": [
        "#For multiple datasets"
      ],
      "metadata": {
        "id": "5GnlFntd9pDB"
      }
    },
    {
      "cell_type": "code",
      "source": [
        "def load_data():\n",
        "    \"\"\"\n",
        "        Load the data:\n",
        "            - 14,034 images to train the network.\n",
        "            - 3,000 images to evaluate how accurately the network learned to classify images.\n",
        "    \"\"\"\n",
        "    \n",
        "    datasets = ['/content/drive/MyDrive/Thesis/Augmented/train_BG','/content/drive/MyDrive/Thesis/Split_data_BG/val','/content/drive/MyDrive/Thesis/Split_data_BG/test']\n",
        "    output = []\n",
        "    \n",
        "    # Iterate through training and test sets\n",
        "    for dataset in datasets:\n",
        "        \n",
        "        images = []\n",
        "        labels = []\n",
        "        \n",
        "        print(\"Loading {}\".format(dataset))\n",
        "        \n",
        "        # Iterate through each folder corresponding to a category\n",
        "        for folder in os.listdir(dataset):\n",
        "            label = class_names_label[folder]\n",
        "            \n",
        "            # Iterate through each image in our folder\n",
        "            for file in tqdm(os.listdir(os.path.join(dataset, folder))):\n",
        "                \n",
        "                # Get the path name of the image\n",
        "                img_path = os.path.join(os.path.join(dataset, folder), file)\n",
        "                \n",
        "                # Open and resize the img\n",
        "                image = cv2.imread(img_path)\n",
        "                image = cv2.cvtColor(image, cv2.COLOR_BGR2RGB)\n",
        "                image = cv2.resize(image, IMAGE_SIZE) \n",
        "                \n",
        "                # Append the image and its corresponding label to the output\n",
        "                images.append(image)\n",
        "                labels.append(label)\n",
        "                \n",
        "        images = np.array(images, dtype = 'float32')\n",
        "        labels = np.array(labels, dtype = 'int32')   \n",
        "        \n",
        "        output.append((images, labels))\n",
        "\n",
        "    return output"
      ],
      "metadata": {
        "id": "ZFSiGNqCfmtY"
      },
      "execution_count": null,
      "outputs": []
    },
    {
      "cell_type": "code",
      "source": [
        "(train_images,train_labels),(val_images,val_labels),(test_images,test_labels) = load_data()"
      ],
      "metadata": {
        "id": "oNNc_JiEgPXy"
      },
      "execution_count": null,
      "outputs": []
    },
    {
      "cell_type": "markdown",
      "source": [
        "#For single dataset"
      ],
      "metadata": {
        "id": "ZSvvPLQB9l89"
      }
    },
    {
      "cell_type": "code",
      "source": [
        "def load_data():\n",
        "    \"\"\"\n",
        "        Load the data:\n",
        "            - 14,034 images to train the network.\n",
        "            - 3,000 images to evaluate how accurately the network learned to classify images.\n",
        "    \"\"\"\n",
        "    \n",
        "    dataset = '/content/drive/MyDrive/Thesis/Augmented/train_BG'\n",
        "    output = []\n",
        "\n",
        "    images = []\n",
        "    labels = []\n",
        "    \n",
        "    print(\"Loading {}\".format(dataset))\n",
        "    # Iterate through each folder corresponding to a category\n",
        "    for folder in os.listdir(dataset):\n",
        "        label = class_names_label[folder]\n",
        "        # Iterate through each image in our folder\n",
        "        for file in tqdm(os.listdir(os.path.join(dataset, folder))):\n",
        "            \n",
        "            # Get the path name of the image\n",
        "            img_path = os.path.join(os.path.join(dataset, folder), file)\n",
        "            \n",
        "            # Open and resize the img\n",
        "            image = cv2.imread(img_path)\n",
        "            image = cv2.cvtColor(image, cv2.COLOR_BGR2RGB)\n",
        "            image = cv2.resize(image, IMAGE_SIZE) \n",
        "            \n",
        "            # Append the image and its corresponding label to the output\n",
        "            images.append(image)\n",
        "            labels.append(label)\n",
        "            \n",
        "    images = np.array(images, dtype = 'float32')\n",
        "    labels = np.array(labels, dtype = 'int32')   \n",
        "    \n",
        "    output.append(images)\n",
        "    output.append(labels)\n",
        "\n",
        "    return output"
      ],
      "metadata": {
        "id": "wxN4od8W60f0"
      },
      "execution_count": null,
      "outputs": []
    },
    {
      "cell_type": "code",
      "source": [
        "train_images,train_labels= load_data()"
      ],
      "metadata": {
        "colab": {
          "base_uri": "https://localhost:8080/"
        },
        "outputId": "2ae378ac-e6fd-4590-c2d9-db78ff19ac71",
        "id": "lOcTP_Ed60gB"
      },
      "execution_count": null,
      "outputs": [
        {
          "output_type": "stream",
          "name": "stdout",
          "text": [
            "Loading /content/drive/MyDrive/Thesis/Augmented/train_BG\n"
          ]
        },
        {
          "output_type": "stream",
          "name": "stderr",
          "text": [
            "100%|██████████| 60/60 [00:01<00:00, 34.28it/s]\n",
            "100%|██████████| 66/66 [00:15<00:00,  4.28it/s]\n",
            "100%|██████████| 64/64 [00:14<00:00,  4.42it/s]\n",
            "100%|██████████| 70/70 [00:15<00:00,  4.57it/s]\n",
            "100%|██████████| 59/59 [00:13<00:00,  4.51it/s]\n",
            "100%|██████████| 67/67 [00:15<00:00,  4.19it/s]\n",
            "100%|██████████| 63/63 [00:15<00:00,  4.00it/s]\n",
            "100%|██████████| 64/64 [00:13<00:00,  4.81it/s]\n",
            "100%|██████████| 72/72 [00:14<00:00,  4.82it/s]\n",
            "100%|██████████| 62/62 [00:13<00:00,  4.72it/s]\n",
            "100%|██████████| 64/64 [00:14<00:00,  4.50it/s]\n",
            "100%|██████████| 60/60 [00:14<00:00,  4.23it/s]\n",
            "100%|██████████| 60/60 [00:13<00:00,  4.60it/s]\n",
            "100%|██████████| 70/70 [00:14<00:00,  4.77it/s]\n",
            "100%|██████████| 59/59 [00:12<00:00,  4.62it/s]\n",
            "100%|██████████| 69/69 [00:17<00:00,  4.06it/s]\n",
            "100%|██████████| 56/56 [00:11<00:00,  4.84it/s]\n",
            "100%|██████████| 70/70 [00:14<00:00,  4.84it/s]\n",
            "100%|██████████| 56/56 [00:11<00:00,  4.72it/s]\n",
            "100%|██████████| 54/54 [00:11<00:00,  4.86it/s]\n",
            "100%|██████████| 83/83 [00:17<00:00,  4.80it/s]\n",
            "100%|██████████| 78/78 [00:16<00:00,  4.74it/s]\n",
            "100%|██████████| 60/60 [00:12<00:00,  4.91it/s]\n",
            "100%|██████████| 74/74 [00:16<00:00,  4.55it/s]\n",
            "100%|██████████| 81/81 [00:16<00:00,  4.82it/s]\n",
            "100%|██████████| 78/78 [00:16<00:00,  4.74it/s]\n",
            "100%|██████████| 77/77 [00:16<00:00,  4.60it/s]\n",
            "100%|██████████| 78/78 [00:16<00:00,  4.84it/s]\n",
            "100%|██████████| 78/78 [00:16<00:00,  4.84it/s]\n",
            "100%|██████████| 81/81 [00:17<00:00,  4.65it/s]\n",
            "100%|██████████| 72/72 [00:15<00:00,  4.56it/s]\n",
            "100%|██████████| 68/68 [00:14<00:00,  4.74it/s]\n",
            "100%|██████████| 77/77 [00:16<00:00,  4.63it/s]\n",
            "100%|██████████| 78/78 [00:17<00:00,  4.50it/s]\n",
            "100%|██████████| 74/74 [00:16<00:00,  4.51it/s]\n",
            "100%|██████████| 60/60 [00:13<00:00,  4.36it/s]\n",
            "100%|██████████| 66/66 [00:15<00:00,  4.19it/s]\n",
            "100%|██████████| 60/60 [00:14<00:00,  4.12it/s]\n",
            "100%|██████████| 76/76 [00:15<00:00,  4.76it/s]\n"
          ]
        }
      ]
    },
    {
      "cell_type": "markdown",
      "source": [
        "#check numpy conversion"
      ],
      "metadata": {
        "id": "mo0AOGY792KC"
      }
    },
    {
      "cell_type": "code",
      "source": [
        "train_images.shape"
      ],
      "metadata": {
        "id": "MHXByHUBhuNl",
        "colab": {
          "base_uri": "https://localhost:8080/"
        },
        "outputId": "7f75c17e-4948-4ed2-ffa5-5bb8e674b610"
      },
      "execution_count": null,
      "outputs": [
        {
          "output_type": "execute_result",
          "data": {
            "text/plain": [
              "(2664, 224, 224, 3)"
            ]
          },
          "metadata": {},
          "execution_count": 42
        }
      ]
    },
    {
      "cell_type": "code",
      "source": [
        "train_labels.shape"
      ],
      "metadata": {
        "colab": {
          "base_uri": "https://localhost:8080/"
        },
        "id": "RBBpfrxQ8zbK",
        "outputId": "5855a1ea-2368-4cb9-cd10-b4d2c3860114"
      },
      "execution_count": null,
      "outputs": [
        {
          "output_type": "execute_result",
          "data": {
            "text/plain": [
              "(2664,)"
            ]
          },
          "metadata": {},
          "execution_count": 43
        }
      ]
    },
    {
      "cell_type": "code",
      "source": [
        "train_images = train_images / 255.0 "
      ],
      "metadata": {
        "id": "WxnJCzvs8-pw"
      },
      "execution_count": null,
      "outputs": []
    },
    {
      "cell_type": "code",
      "source": [
        "def display_random_image(class_names, images, labels):\n",
        "    \"\"\"\n",
        "        Display a random image from the images array and its correspond label from the labels array.\n",
        "    \"\"\"\n",
        "    \n",
        "    index = np.random.randint(images.shape[0])\n",
        "    plt.figure()\n",
        "    plt.imshow(images[index])\n",
        "    plt.xticks([])\n",
        "    plt.yticks([])\n",
        "    plt.grid(False)\n",
        "    plt.title('Image #{} : '.format(index) + class_names[labels[index]])\n",
        "    plt.show()"
      ],
      "metadata": {
        "id": "NpA1rL0_lilJ"
      },
      "execution_count": null,
      "outputs": []
    },
    {
      "cell_type": "code",
      "source": [
        "display_random_image(class_names, train_images, train_labels)"
      ],
      "metadata": {
        "colab": {
          "base_uri": "https://localhost:8080/",
          "height": 268
        },
        "id": "9hX71uO2loVi",
        "outputId": "d88c796a-1bc8-40d2-eb53-4c42295df2be"
      },
      "execution_count": null,
      "outputs": [
        {
          "output_type": "display_data",
          "data": {
            "text/plain": [
              "<Figure size 432x288 with 1 Axes>"
            ],
            "image/png": "[encoded data removed]"
          },
          "metadata": {}
        }
      ]
    },
    {
      "cell_type": "markdown",
      "source": [
        "#converting to h5"
      ],
      "metadata": {
        "id": "urChlCpF_s0l"
      }
    },
    {
      "cell_type": "code",
      "source": [
        "# Python program to demonstrate\n",
        "# HDF5 file\n",
        "\n",
        "\n",
        "# # initializing a random numpy array\n",
        "\n",
        "\n",
        "# creating a file\n",
        "# with h5py.File('/content/drive/MyDrive/DATASets/augment220323_BG.h5', 'a') as f:\n",
        "# \tdset = f.create_dataset(\"train_images_v2\", data = train_images)\n",
        "# \tdset = f.create_dataset(\"train_labels_v2\", data = train_labels)"
      ],
      "metadata": {
        "id": "uRrIgJpc0bJ9"
      },
      "execution_count": null,
      "outputs": []
    },
    {
      "cell_type": "code",
      "source": [
        "with h5py.File('/content/drive/MyDrive/DATASets/sign_main.h5', 'r') as f:\n",
        "\n",
        "  #list of datasets\n",
        "  ls=list(f.keys())\n",
        "  print(ls)"
      ],
      "metadata": {
        "colab": {
          "base_uri": "https://localhost:8080/"
        },
        "id": "ovso2SNp_9Ym",
        "outputId": "9a2fa2d1-0141-472b-f59a-d84289e72ca3"
      },
      "execution_count": null,
      "outputs": [
        {
          "output_type": "stream",
          "name": "stdout",
          "text": [
            "['images', 'labels', 'test_images', 'test_labels', 'train_images', 'train_labels']\n"
          ]
        }
      ]
    },
    {
      "cell_type": "code",
      "source": [
        "with h5py.File('/content/drive/MyDrive/DATASets/sign_main.h5', 'r') as f:\n",
        "\n",
        "  #list of datasets\n",
        "  \n",
        "  data=f.get('labels')\n",
        "  test_labels=np.array(data)\n",
        "  print(test_labels.shape)\n",
        "  data=f.get('test_labels')\n",
        "  test_labels=np.array(data)\n",
        "  print(test_labels.shape)\n",
        "  data=f.get('train_labels')\n",
        "  test_labels=np.array(data)\n",
        "  print(test_labels.shape)"
      ],
      "metadata": {
        "colab": {
          "base_uri": "https://localhost:8080/"
        },
        "id": "b5HeQM_kWT1F",
        "outputId": "cdc5129e-20e8-43cd-83e3-06d35f9190d4"
      },
      "execution_count": null,
      "outputs": [
        {
          "output_type": "stream",
          "name": "stdout",
          "text": [
            "(1939,)\n",
            "(405,)\n",
            "(1534,)\n"
          ]
        }
      ]
    },
    {
      "cell_type": "code",
      "source": [
        "with h5py.File('/content/drive/MyDrive/DATASets/sign.h5', 'r') as f:\n",
        "\n",
        "  #list of datasets\n",
        "  ls=list(f.keys())\n",
        "  print(ls)"
      ],
      "metadata": {
        "colab": {
          "base_uri": "https://localhost:8080/"
        },
        "outputId": "b8c0fd5c-25eb-490d-8cc7-083f180ea1ec",
        "id": "z3UNXm-ciyRH"
      },
      "execution_count": null,
      "outputs": [
        {
          "output_type": "stream",
          "name": "stdout",
          "text": [
            "['test_images', 'test_labels', 'train_images', 'train_labels']\n"
          ]
        }
      ]
    },
    {
      "cell_type": "code",
      "source": [
        "with h5py.File('/content/drive/MyDrive/DATASets/sign.h5', 'r') as f:\n",
        "\n",
        "  #list of datasets\n",
        "  data=f.get('test_labels')\n",
        "  test_labels=np.array(data)\n",
        "  print(test_labels.shape)\n",
        "  data=f.get('train_labels')\n",
        "  test_labels=np.array(data)\n",
        "  print(test_labels.shape)"
      ],
      "metadata": {
        "colab": {
          "base_uri": "https://localhost:8080/"
        },
        "outputId": "b643f2f0-a595-4b36-ae2e-afcae9038f6c",
        "id": "a4hsQPZOiyRL"
      },
      "execution_count": null,
      "outputs": [
        {
          "output_type": "stream",
          "name": "stdout",
          "text": [
            "(224,)\n",
            "(1343,)\n"
          ]
        }
      ]
    }
  ]
}