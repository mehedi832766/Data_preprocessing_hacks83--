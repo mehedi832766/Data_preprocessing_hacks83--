{
  "cells": [
    {
      "cell_type": "markdown",
      "metadata": {
        "id": "view-in-github",
        "colab_type": "text"
      },
      "source": [
        "<a href=\"https://colab.research.google.com/github/mehedi832766/Data_preprocessing_hacks83--/blob/CNNReadyDataFromYoloAnnotation/yolo_crop.ipynb\" target=\"_parent\"><img src=\"https://colab.research.google.com/assets/colab-badge.svg\" alt=\"Open In Colab\"/></a>"
      ]
    },
    {
      "cell_type": "code",
      "execution_count": null,
      "metadata": {
        "id": "htwkwnajmp1z",
        "colab": {
          "base_uri": "https://localhost:8080/"
        },
        "outputId": "6fb7924d-5386-4726-f7a0-5e1e913c52e4"
      },
      "outputs": [
        {
          "output_type": "stream",
          "name": "stdout",
          "text": [
            "Archive:  /content/drive/MyDrive/Thesis/data_yolo7.zip\n",
            "caution: filename not matched:  /content/drive/MyDrive/DATASets/Cropped_data\n"
          ]
        }
      ],
      "source": [
        "!unzip \"/content/drive/MyDrive/Thesis/data_yolo7.zip\""
      ]
    },
    {
      "cell_type": "code",
      "source": [
        "cls = ['A', 'AA', 'E', 'U', 'Y', \n",
        "        'O','KA', 'KHA', 'GA', 'GHA', 'CHA', \n",
        "        'SCHA', 'JA', 'JHA', 'TA', 'THA', 'DA', \n",
        "        'DHA', 'TO', 'THO', 'NA', 'PA', 'PHA', \n",
        "        'BA', 'BHA', 'MA', 'YA', 'RA', 'LA', \n",
        "        'SA', 'HA', 'RHA', 'UN', 'BI', 'joint', \n",
        "        'space', 'stop', 'DO', 'DHO']"
      ],
      "metadata": {
        "id": "41m2H81ecnJG"
      },
      "execution_count": null,
      "outputs": []
    },
    {
      "cell_type": "code",
      "source": [
        "img_path=\"/content/YOLOV&/images/val\"\n",
        "lbl_path=\"/content/YOLOV&/labels/val\""
      ],
      "metadata": {
        "id": "QDiYGd7lfguk"
      },
      "execution_count": null,
      "outputs": []
    },
    {
      "cell_type": "code",
      "source": [
        "im=os.listdir(img_path)\n",
        "lb=os.listdir(lbl_path)"
      ],
      "metadata": {
        "id": "GAesK9tTfurK"
      },
      "execution_count": null,
      "outputs": []
    },
    {
      "cell_type": "code",
      "source": [
        "im.sort()\n",
        "lb.sort()"
      ],
      "metadata": {
        "id": "UNMX0TmRgzh3"
      },
      "execution_count": null,
      "outputs": []
    },
    {
      "cell_type": "code",
      "source": [
        "print(im[9]+\" = \"+lb[9])"
      ],
      "metadata": {
        "colab": {
          "base_uri": "https://localhost:8080/"
        },
        "id": "tKYWiP3Mf4hT",
        "outputId": "ea4a3a67-5c4c-4c85-e722-26fe076b30b4"
      },
      "execution_count": null,
      "outputs": [
        {
          "output_type": "stream",
          "name": "stdout",
          "text": [
            "01_KA (6).JPG = 01_KA (6).txt\n"
          ]
        }
      ]
    },
    {
      "cell_type": "code",
      "execution_count": null,
      "metadata": {
        "id": "pQxSI2MOsbb7"
      },
      "outputs": [],
      "source": [
        "import os,cv2\n",
        "from google.colab.patches import cv2_imshow "
      ]
    },
    {
      "cell_type": "code",
      "source": [
        "for k in range(len(im)):\n",
        "  label_path = os.path.join('/content/YOLOV&/labels/val',lb[k])\n",
        "  p=[]\n",
        "  # opening the text file\n",
        "  with open(label_path,'r') as file:\n",
        "    # reading each line \n",
        "    for line in file:\n",
        "\n",
        "      # reading each word\t\n",
        "      for word in line.split():\n",
        "        p.append(float(word))\n",
        "  f_path=os.path.join('/content/drive/MyDrive/DATASets/Cropped_data',cls[int(p[0])])\n",
        "  if(os.path.exists(f_path)==False):\n",
        "    os.mkdir(f_path)\n",
        "\n",
        "\t\n",
        "\n",
        "  image_path=os.path.join(\"/content/YOLOV&/images/val\",im[k])\n",
        "  image = cv2.imread(image_path)\n",
        "  lh,lw,_ = image.shape\n",
        "  \n",
        "  # now take your coordinates\n",
        "  x,y,w,h = p[1], p[2],p[3], p[4]\n",
        "  x,y,w,h = int(x*lw), int(y*lh), int(w*lw), int(h*lh) ## to match the bounding box coordinates with actual width, height\n",
        "  xmin = int(x - w/2)\n",
        "  ymin = int(y - h/2)\n",
        "  xmax = int(x + w/2)\n",
        "  ymax = int(y + h/2)\n",
        "  boxedImage = image[ymin:ymax, xmin:xmax]\n",
        "  \n",
        "  tar = os.path.join(f_path,im[k])\n",
        "  if(os.path.exists(tar)==False):\n",
        "    cv2.imwrite(tar, boxedImage)\n",
        "  else:\n",
        "    print(\"existed\")\n",
        "  \n"
      ],
      "metadata": {
        "id": "5LcMRmOUibpQ"
      },
      "execution_count": null,
      "outputs": []
    }
  ],
  "metadata": {
    "colab": {
      "provenance": [],
      "mount_file_id": "1dC5BFG7vKUl30G8RJvJbUxkg1ydWGg0X",
      "authorship_tag": "ABX9TyPXHw6EZVocY1vwr2KrmrXA",
      "include_colab_link": true
    },
    "kernelspec": {
      "display_name": "Python 3",
      "name": "python3"
    },
    "language_info": {
      "name": "python"
    }
  },
  "nbformat": 4,
  "nbformat_minor": 0
}