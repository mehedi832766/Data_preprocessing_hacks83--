{
  "nbformat": 4,
  "nbformat_minor": 0,
  "metadata": {
    "colab": {
      "provenance": [],
      "include_colab_link": true
    },
    "kernelspec": {
      "name": "python3",
      "display_name": "Python 3"
    },
    "language_info": {
      "name": "python"
    },
    "gpuClass": "standard"
  },
  "cells": [
    {
      "cell_type": "markdown",
      "metadata": {
        "id": "view-in-github",
        "colab_type": "text"
      },
      "source": [
        "<a href=\"https://colab.research.google.com/github/mehedi832766/Data_preprocessing_hacks83--/blob/Background_remove/background_remove.ipynb\" target=\"_parent\"><img src=\"https://colab.research.google.com/assets/colab-badge.svg\" alt=\"Open In Colab\"/></a>"
      ]
    },
    {
      "cell_type": "code",
      "execution_count": null,
      "metadata": {
        "id": "oQfK1mwJMluf"
      },
      "outputs": [],
      "source": [
        "pip install rembg[gpu]"
      ]
    },
    {
      "cell_type": "code",
      "source": [
        "pip install pillow"
      ],
      "metadata": {
        "colab": {
          "base_uri": "https://localhost:8080/"
        },
        "id": "UWCLqS0rNUmX",
        "outputId": "b6b44b8c-49d6-43bd-8951-3425a904660f"
      },
      "execution_count": null,
      "outputs": [
        {
          "output_type": "stream",
          "name": "stdout",
          "text": [
            "Looking in indexes: https://pypi.org/simple, https://us-python.pkg.dev/colab-wheels/public/simple/\n",
            "Requirement already satisfied: pillow in /usr/local/lib/python3.9/dist-packages (9.3.0)\n"
          ]
        }
      ]
    },
    {
      "cell_type": "code",
      "source": [
        "from rembg import remove\n",
        "from PIL import Image\n"
      ],
      "metadata": {
        "id": "1QGktOA3Nfev"
      },
      "execution_count": null,
      "outputs": []
    },
    {
      "cell_type": "code",
      "source": [
        "# img=Image.open(\"/content/drive/MyDrive/Thesis/Split_data3.0/train/01. KA/KA (4).JPG\")\n",
        "# R = remove(img)\n",
        "# R.save(\"phodo.png\")"
      ],
      "metadata": {
        "id": "GEHE3MrOMtRt"
      },
      "execution_count": null,
      "outputs": []
    },
    {
      "cell_type": "code",
      "source": [
        "root='/content/drive/MyDrive/Thesis/Sign_Data_3.0'"
      ],
      "metadata": {
        "id": "3sVPwHYqUDvR"
      },
      "execution_count": null,
      "outputs": []
    },
    {
      "cell_type": "code",
      "source": [
        "import os\n",
        "from rembg import remove\n",
        "import cv2"
      ],
      "metadata": {
        "id": "cM-TW5yTUyMW"
      },
      "execution_count": null,
      "outputs": []
    },
    {
      "cell_type": "code",
      "source": [
        "for folder in os.listdir(root):\n",
        "  sub = os.path.join(root,folder)\n",
        "  tar = os.path.join('/content/drive/MyDrive/Thesis/Untitled Folder',folder)\n",
        "  os.mkdir(tar)\n",
        "  for img in os.listdir(sub):\n",
        "    input_path = os.path.join(sub,img)  # this is a PIL image\n",
        "    input = cv2.imread(input_path)\n",
        "    output = remove(input)\n",
        "    output_path = os.path.join(tar,img)\n",
        "    cv2.imwrite(output_path, output)\n",
        "    "
      ],
      "metadata": {
        "id": "6I7H83KMT-Th"
      },
      "execution_count": null,
      "outputs": []
    },
    {
      "cell_type": "code",
      "source": [],
      "metadata": {
        "id": "chMKRFQWaAjY"
      },
      "execution_count": null,
      "outputs": []
    }
  ]
}